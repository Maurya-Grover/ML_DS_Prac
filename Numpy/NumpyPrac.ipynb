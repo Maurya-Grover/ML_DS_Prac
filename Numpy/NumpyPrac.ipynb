{
  "nbformat": 4,
  "nbformat_minor": 0,
  "metadata": {
    "colab": {
      "name": "NumpyPrac.ipynb",
      "provenance": [],
      "collapsed_sections": [],
      "mount_file_id": "1MgNx7hm6e0cVQLgylOSqrT63DxAujwrk",
      "authorship_tag": "ABX9TyM1vAKOd6F4ID1qxk5WL0wE",
      "include_colab_link": true
    },
    "kernelspec": {
      "name": "python3",
      "display_name": "Python 3"
    }
  },
  "cells": [
    {
      "cell_type": "markdown",
      "metadata": {
        "id": "view-in-github",
        "colab_type": "text"
      },
      "source": [
        "<a href=\"https://colab.research.google.com/github/Maurya-Grover/ML_DS_Prac/blob/main/Numpy/NumpyPrac.ipynb\" target=\"_parent\"><img src=\"https://colab.research.google.com/assets/colab-badge.svg\" alt=\"Open In Colab\"/></a>"
      ]
    },
    {
      "cell_type": "code",
      "metadata": {
        "id": "WGzy1xKy2lVE"
      },
      "source": [
        "import pandas as pd\n",
        "import numpy as np\n",
        "import matplotlib.pyplot as plt\n",
        "import sys"
      ],
      "execution_count": null,
      "outputs": []
    },
    {
      "cell_type": "code",
      "metadata": {
        "id": "jLx9jCx9y3iB"
      },
      "source": [
        "a = np.array([4, 65, 8, 9, 2, 1, 0, 2, 10, 12391672381, -45, -45, -45, 12])"
      ],
      "execution_count": null,
      "outputs": []
    },
    {
      "cell_type": "code",
      "metadata": {
        "id": "Y9FxfuUd-ogE",
        "outputId": "bbeb25da-7552-4219-a3c5-709381d385f1",
        "colab": {
          "base_uri": "https://localhost:8080/",
          "height": 67
        }
      },
      "source": [
        "np.linspace(1, 143, 12)"
      ],
      "execution_count": null,
      "outputs": [
        {
          "output_type": "execute_result",
          "data": {
            "text/plain": [
              "array([  1.        ,  13.90909091,  26.81818182,  39.72727273,\n",
              "        52.63636364,  65.54545455,  78.45454545,  91.36363636,\n",
              "       104.27272727, 117.18181818, 130.09090909, 143.        ])"
            ]
          },
          "metadata": {
            "tags": []
          },
          "execution_count": 38
        }
      ]
    }
  ]
}