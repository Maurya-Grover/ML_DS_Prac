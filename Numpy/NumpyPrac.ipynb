{
  "nbformat": 4,
  "nbformat_minor": 0,
  "metadata": {
    "colab": {
      "name": "NumpyPrac.ipynb",
      "provenance": [],
      "collapsed_sections": [],
      "mount_file_id": "1MgNx7hm6e0cVQLgylOSqrT63DxAujwrk",
      "authorship_tag": "ABX9TyMC/0is7sFKyIlWlxNjO+ly",
      "include_colab_link": true
    },
    "kernelspec": {
      "name": "python3",
      "display_name": "Python 3"
    }
  },
  "cells": [
    {
      "cell_type": "markdown",
      "metadata": {
        "id": "view-in-github",
        "colab_type": "text"
      },
      "source": [
        "<a href=\"https://colab.research.google.com/github/Maurya-Grover/ML_DS_Prac/blob/main/Numpy/NumpyPrac.ipynb\" target=\"_parent\"><img src=\"https://colab.research.google.com/assets/colab-badge.svg\" alt=\"Open In Colab\"/></a>"
      ]
    },
    {
      "cell_type": "code",
      "metadata": {
        "id": "WGzy1xKy2lVE"
      },
      "source": [
        "import pandas as pd\n",
        "import numpy as np\n",
        "import matplotlib.pyplot as plt\n",
        "import sys"
      ],
      "execution_count": 1,
      "outputs": []
    },
    {
      "cell_type": "code",
      "metadata": {
        "id": "Bmk3oHyQtvDc"
      },
      "source": [
        "a = np.array([4, 65, 8, 9, 2, 1, 0, 2, 10, 12391672381, -45, -45, -45, 12])"
      ],
      "execution_count": 2,
      "outputs": []
    },
    {
      "cell_type": "code",
      "metadata": {
        "id": "EDoOyQNEtL0S",
        "outputId": "db384ba4-6c86-4eec-c6b3-53096e27f491",
        "colab": {
          "base_uri": "https://localhost:8080/",
          "height": 67
        }
      },
      "source": [
        "np.zeros([3,4], dtype = np.int)"
      ],
      "execution_count": 3,
      "outputs": [
        {
          "output_type": "execute_result",
          "data": {
            "text/plain": [
              "array([[0, 0, 0, 0],\n",
              "       [0, 0, 0, 0],\n",
              "       [0, 0, 0, 0]])"
            ]
          },
          "metadata": {
            "tags": []
          },
          "execution_count": 3
        }
      ]
    },
    {
      "cell_type": "code",
      "metadata": {
        "id": "29EFGO2IteUs",
        "outputId": "f38f8751-061e-453a-a41c-fc8417c4c71f",
        "colab": {
          "base_uri": "https://localhost:8080/",
          "height": 67
        }
      },
      "source": [
        "np.zeros([3,4], dtype = np.float)"
      ],
      "execution_count": 4,
      "outputs": [
        {
          "output_type": "execute_result",
          "data": {
            "text/plain": [
              "array([[0., 0., 0., 0.],\n",
              "       [0., 0., 0., 0.],\n",
              "       [0., 0., 0., 0.]])"
            ]
          },
          "metadata": {
            "tags": []
          },
          "execution_count": 4
        }
      ]
    },
    {
      "cell_type": "code",
      "metadata": {
        "id": "IuOJvTyXtiKm",
        "outputId": "67815324-761b-465f-bb66-c9eb7550a7fd",
        "colab": {
          "base_uri": "https://localhost:8080/",
          "height": 67
        }
      },
      "source": [
        "np.ones([3,4], dtype = np.float)"
      ],
      "execution_count": 5,
      "outputs": [
        {
          "output_type": "execute_result",
          "data": {
            "text/plain": [
              "array([[1., 1., 1., 1.],\n",
              "       [1., 1., 1., 1.],\n",
              "       [1., 1., 1., 1.]])"
            ]
          },
          "metadata": {
            "tags": []
          },
          "execution_count": 5
        }
      ]
    },
    {
      "cell_type": "code",
      "metadata": {
        "id": "JUIKlIfctmo6",
        "outputId": "f6ca7b35-48b2-4fc8-e1cf-7b52a24259c4",
        "colab": {
          "base_uri": "https://localhost:8080/",
          "height": 67
        }
      },
      "source": [
        "np.ones([3,4], dtype = np.int)"
      ],
      "execution_count": 6,
      "outputs": [
        {
          "output_type": "execute_result",
          "data": {
            "text/plain": [
              "array([[1, 1, 1, 1],\n",
              "       [1, 1, 1, 1],\n",
              "       [1, 1, 1, 1]])"
            ]
          },
          "metadata": {
            "tags": []
          },
          "execution_count": 6
        }
      ]
    },
    {
      "cell_type": "code",
      "metadata": {
        "id": "P7_Lw3uauORS",
        "outputId": "4bbe7640-ca1a-4bd0-dc03-5a1468488303",
        "colab": {
          "base_uri": "https://localhost:8080/",
          "height": 34
        }
      },
      "source": [
        "np.zeros(5, dtype = np.int) # same for np.ones"
      ],
      "execution_count": 7,
      "outputs": [
        {
          "output_type": "execute_result",
          "data": {
            "text/plain": [
              "array([0, 0, 0, 0, 0])"
            ]
          },
          "metadata": {
            "tags": []
          },
          "execution_count": 7
        }
      ]
    },
    {
      "cell_type": "code",
      "metadata": {
        "id": "unlPZi1_uXAO",
        "outputId": "608171e2-8032-4d5b-cf7e-91782824400b",
        "colab": {
          "base_uri": "https://localhost:8080/",
          "height": 34
        }
      },
      "source": [
        "np.zeros_like(a, dtype = np.int) # same size as np array can be done same for ones_like"
      ],
      "execution_count": 8,
      "outputs": [
        {
          "output_type": "execute_result",
          "data": {
            "text/plain": [
              "array([0, 0, 0, 0, 0, 0, 0, 0, 0, 0, 0, 0, 0, 0])"
            ]
          },
          "metadata": {
            "tags": []
          },
          "execution_count": 8
        }
      ]
    },
    {
      "cell_type": "code",
      "metadata": {
        "id": "GmxwkPP_QMLW",
        "outputId": "13fccbfc-5279-464a-e2a0-2f00d3cf3393",
        "colab": {
          "base_uri": "https://localhost:8080/",
          "height": 101
        }
      },
      "source": [
        "np.full((5,3), 45, dtype = np.int)"
      ],
      "execution_count": 9,
      "outputs": [
        {
          "output_type": "execute_result",
          "data": {
            "text/plain": [
              "array([[45, 45, 45],\n",
              "       [45, 45, 45],\n",
              "       [45, 45, 45],\n",
              "       [45, 45, 45],\n",
              "       [45, 45, 45]])"
            ]
          },
          "metadata": {
            "tags": []
          },
          "execution_count": 9
        }
      ]
    },
    {
      "cell_type": "code",
      "metadata": {
        "id": "lz2Lv1C6QjSP",
        "outputId": "9fab7472-1d02-4bfe-9c72-56269503d302",
        "colab": {
          "base_uri": "https://localhost:8080/",
          "height": 34
        }
      },
      "source": [
        "np.full(a.shape, 44, dtype = np.int)"
      ],
      "execution_count": 10,
      "outputs": [
        {
          "output_type": "execute_result",
          "data": {
            "text/plain": [
              "array([44, 44, 44, 44, 44, 44, 44, 44, 44, 44, 44, 44, 44, 44])"
            ]
          },
          "metadata": {
            "tags": []
          },
          "execution_count": 10
        }
      ]
    },
    {
      "cell_type": "code",
      "metadata": {
        "id": "MkwgSvAFQ3m8",
        "outputId": "b61a45a6-afa3-4e6b-d8f9-88117bd5bbce",
        "colab": {
          "base_uri": "https://localhost:8080/",
          "height": 34
        }
      },
      "source": [
        "np.full_like(a, 44, dtype = np.int)"
      ],
      "execution_count": 11,
      "outputs": [
        {
          "output_type": "execute_result",
          "data": {
            "text/plain": [
              "array([44, 44, 44, 44, 44, 44, 44, 44, 44, 44, 44, 44, 44, 44])"
            ]
          },
          "metadata": {
            "tags": []
          },
          "execution_count": 11
        }
      ]
    },
    {
      "cell_type": "code",
      "metadata": {
        "id": "Y9FxfuUd-ogE",
        "outputId": "2fe6e674-b44f-4bb0-8740-1f5626c6fab1",
        "colab": {
          "base_uri": "https://localhost:8080/",
          "height": 67
        }
      },
      "source": [
        "np.linspace(1, 143, 12)"
      ],
      "execution_count": 12,
      "outputs": [
        {
          "output_type": "execute_result",
          "data": {
            "text/plain": [
              "array([  1.        ,  13.90909091,  26.81818182,  39.72727273,\n",
              "        52.63636364,  65.54545455,  78.45454545,  91.36363636,\n",
              "       104.27272727, 117.18181818, 130.09090909, 143.        ])"
            ]
          },
          "metadata": {
            "tags": []
          },
          "execution_count": 12
        }
      ]
    },
    {
      "cell_type": "markdown",
      "metadata": {
        "id": "QARJ-3uzRxhN"
      },
      "source": [
        "# Random Numbers\n"
      ]
    },
    {
      "cell_type": "code",
      "metadata": {
        "id": "QrM0GzE4R_A6",
        "outputId": "2ecd050f-a63f-4bd2-98cc-4e9cb36737dd",
        "colab": {
          "base_uri": "https://localhost:8080/",
          "height": 84
        }
      },
      "source": [
        "np.random.rand(4,2)"
      ],
      "execution_count": 13,
      "outputs": [
        {
          "output_type": "execute_result",
          "data": {
            "text/plain": [
              "array([[0.93195216, 0.0519823 ],\n",
              "       [0.34154295, 0.6076475 ],\n",
              "       [0.69796434, 0.9849939 ],\n",
              "       [0.28189698, 0.8642634 ]])"
            ]
          },
          "metadata": {
            "tags": []
          },
          "execution_count": 13
        }
      ]
    },
    {
      "cell_type": "code",
      "metadata": {
        "id": "tt7K4cMbSVcc",
        "outputId": "67784f19-eb29-40c1-a49f-ff19b9bf6370",
        "colab": {
          "base_uri": "https://localhost:8080/",
          "height": 67
        }
      },
      "source": [
        "np.random.random_sample(a.shape)"
      ],
      "execution_count": 14,
      "outputs": [
        {
          "output_type": "execute_result",
          "data": {
            "text/plain": [
              "array([0.80234524, 0.9249337 , 0.24894571, 0.43081035, 0.20910759,\n",
              "       0.14885783, 0.2444944 , 0.64076561, 0.92505479, 0.80045646,\n",
              "       0.17357577, 0.09925532, 0.25615255, 0.17201793])"
            ]
          },
          "metadata": {
            "tags": []
          },
          "execution_count": 14
        }
      ]
    },
    {
      "cell_type": "code",
      "metadata": {
        "id": "zP7L-518S0Mo",
        "outputId": "d1a85fc0-bbe5-4dcc-f5f5-1e99b8520697",
        "colab": {
          "base_uri": "https://localhost:8080/",
          "height": 67
        }
      },
      "source": [
        "np.random.randint(7, size = (3,5))"
      ],
      "execution_count": 15,
      "outputs": [
        {
          "output_type": "execute_result",
          "data": {
            "text/plain": [
              "array([[2, 1, 4, 5, 4],\n",
              "       [6, 6, 1, 3, 0],\n",
              "       [0, 6, 1, 4, 2]])"
            ]
          },
          "metadata": {
            "tags": []
          },
          "execution_count": 15
        }
      ]
    },
    {
      "cell_type": "code",
      "metadata": {
        "id": "R3W6OaE0TCSf",
        "outputId": "c78f91be-8e75-49b0-e653-4af72088ea87",
        "colab": {
          "base_uri": "https://localhost:8080/",
          "height": 67
        }
      },
      "source": [
        "np.random.randint(7, 324, size = (3,4))"
      ],
      "execution_count": 16,
      "outputs": [
        {
          "output_type": "execute_result",
          "data": {
            "text/plain": [
              "array([[238, 222,  27,  98],\n",
              "       [155, 122, 312, 322],\n",
              "       [ 61,  61,  33, 281]])"
            ]
          },
          "metadata": {
            "tags": []
          },
          "execution_count": 16
        }
      ]
    },
    {
      "cell_type": "code",
      "metadata": {
        "id": "mcdEthjCTkdT",
        "outputId": "b7c9116a-d57f-4889-f587-4ea334fef557",
        "colab": {
          "base_uri": "https://localhost:8080/",
          "height": 50
        }
      },
      "source": [
        "np.random.randint(7, 324, size = a.shape)"
      ],
      "execution_count": 17,
      "outputs": [
        {
          "output_type": "execute_result",
          "data": {
            "text/plain": [
              "array([129, 171, 261, 233, 175, 110, 225, 186, 118,  45, 118, 102,  37,\n",
              "        85])"
            ]
          },
          "metadata": {
            "tags": []
          },
          "execution_count": 17
        }
      ]
    },
    {
      "cell_type": "code",
      "metadata": {
        "id": "7m5KBeuqTtbu",
        "outputId": "4183c488-f547-406d-848d-43ff4dfae641",
        "colab": {
          "base_uri": "https://localhost:8080/",
          "height": 84
        }
      },
      "source": [
        "np.identity(4, dtype = np.int)"
      ],
      "execution_count": 18,
      "outputs": [
        {
          "output_type": "execute_result",
          "data": {
            "text/plain": [
              "array([[1, 0, 0, 0],\n",
              "       [0, 1, 0, 0],\n",
              "       [0, 0, 1, 0],\n",
              "       [0, 0, 0, 1]])"
            ]
          },
          "metadata": {
            "tags": []
          },
          "execution_count": 18
        }
      ]
    },
    {
      "cell_type": "code",
      "metadata": {
        "id": "1YUxykSHTz4z",
        "outputId": "ce0d0f87-331b-4419-f54e-b21bbfffc1a6",
        "colab": {
          "base_uri": "https://localhost:8080/",
          "height": 67
        }
      },
      "source": [
        "arr = np.array([[1, 2, 3]])\n",
        "r1 = np.repeat(arr, 3, axis = 0) # axis = 0 means rows\n",
        "print(r1)"
      ],
      "execution_count": 20,
      "outputs": [
        {
          "output_type": "stream",
          "text": [
            "[[1 2 3]\n",
            " [1 2 3]\n",
            " [1 2 3]]\n"
          ],
          "name": "stdout"
        }
      ]
    },
    {
      "cell_type": "code",
      "metadata": {
        "id": "yoUt9rpMUKgS"
      },
      "source": [
        ""
      ],
      "execution_count": 19,
      "outputs": []
    }
  ]
}