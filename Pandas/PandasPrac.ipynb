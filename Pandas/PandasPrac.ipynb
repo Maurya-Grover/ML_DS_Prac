{
  "nbformat": 4,
  "nbformat_minor": 0,
  "metadata": {
    "colab": {
      "name": "PandasPrac.ipynb",
      "provenance": [],
      "collapsed_sections": [],
      "mount_file_id": "1nU4wRsK__BV4RcV0gARmvpzaorEokInS",
      "authorship_tag": "ABX9TyMGjXbBNxCRWyl0hzjol6Fv",
      "include_colab_link": true
    },
    "kernelspec": {
      "name": "python3",
      "display_name": "Python 3"
    }
  },
  "cells": [
    {
      "cell_type": "markdown",
      "metadata": {
        "id": "view-in-github",
        "colab_type": "text"
      },
      "source": [
        "<a href=\"https://colab.research.google.com/github/Maurya-Grover/ML_DS_Prac/blob/main/Pandas/PandasPrac.ipynb\" target=\"_parent\"><img src=\"https://colab.research.google.com/assets/colab-badge.svg\" alt=\"Open In Colab\"/></a>"
      ]
    },
    {
      "cell_type": "code",
      "metadata": {
        "id": "o_oTpH8DhW13"
      },
      "source": [
        "import numpy as np\n",
        "import pandas as pd\n",
        "import matplotlib.pyplot as plt"
      ],
      "execution_count": 1,
      "outputs": []
    }
  ]
}